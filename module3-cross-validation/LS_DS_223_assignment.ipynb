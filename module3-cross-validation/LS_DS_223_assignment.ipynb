{
  "nbformat": 4,
  "nbformat_minor": 0,
  "metadata": {
    "kernelspec": {
      "display_name": "Python 3",
      "language": "python",
      "name": "python3"
    },
    "language_info": {
      "codemirror_mode": {
        "name": "ipython",
        "version": 3
      },
      "file_extension": ".py",
      "mimetype": "text/x-python",
      "name": "python",
      "nbconvert_exporter": "python",
      "pygments_lexer": "ipython3",
      "version": "3.7.6"
    },
    "colab": {
      "name": "LS_DS_223_assignment.ipynb",
      "provenance": [],
      "include_colab_link": true
    }
  },
  "cells": [
    {
      "cell_type": "markdown",
      "metadata": {
        "id": "view-in-github",
        "colab_type": "text"
      },
      "source": [
        "<a href=\"https://colab.research.google.com/github/ndow33/DS-Unit-2-Kaggle-Challenge/blob/master/module3-cross-validation/LS_DS_223_assignment.ipynb\" target=\"_parent\"><img src=\"https://colab.research.google.com/assets/colab-badge.svg\" alt=\"Open In Colab\"/></a>"
      ]
    },
    {
      "cell_type": "markdown",
      "metadata": {
        "id": "edGmqL0uYLIj",
        "colab_type": "text"
      },
      "source": [
        "Lambda School Data Science\n",
        "\n",
        "*Unit 2, Sprint 2, Module 3*\n",
        "\n",
        "---"
      ]
    },
    {
      "cell_type": "markdown",
      "metadata": {
        "id": "90TtPimdYLIl",
        "colab_type": "text"
      },
      "source": [
        "# Cross-Validation\n",
        "\n",
        "\n",
        "## Assignment\n",
        "- [ ] [Review requirements for your portfolio project](https://lambdaschool.github.io/ds/unit2), then submit your dataset.\n",
        "- [ ] Continue to participate in our Kaggle challenge. \n",
        "- [ ] Use scikit-learn for hyperparameter optimization with RandomizedSearchCV.\n",
        "- [ ] Submit your predictions to our Kaggle competition. (Go to our Kaggle InClass competition webpage. Use the blue **Submit Predictions** button to upload your CSV file. Or you can use the Kaggle API to submit your predictions.)\n",
        "- [ ] Commit your notebook to your fork of the GitHub repo.\n",
        "\n",
        "\n",
        "You won't be able to just copy from the lesson notebook to this assignment.\n",
        "\n",
        "- Because the lesson was ***regression***, but the assignment is ***classification.***\n",
        "- Because the lesson used [TargetEncoder](https://contrib.scikit-learn.org/categorical-encoding/targetencoder.html), which doesn't work as-is for _multi-class_ classification.\n",
        "\n",
        "So you will have to adapt the example, which is good real-world practice.\n",
        "\n",
        "1. Use a model for classification, such as [RandomForestClassifier](https://scikit-learn.org/stable/modules/generated/sklearn.ensemble.RandomForestClassifier.html)\n",
        "2. Use hyperparameters that match the classifier, such as `randomforestclassifier__ ...`\n",
        "3. Use a metric for classification, such as [`scoring='accuracy'`](https://scikit-learn.org/stable/modules/model_evaluation.html#common-cases-predefined-values)\n",
        "4. If you’re doing a multi-class classification problem — such as whether a waterpump is functional, functional needs repair, or nonfunctional — then use a categorical encoding that works for multi-class classification, such as [OrdinalEncoder](https://contrib.scikit-learn.org/categorical-encoding/ordinal.html) (not [TargetEncoder](https://contrib.scikit-learn.org/categorical-encoding/targetencoder.html))\n",
        "\n",
        "\n",
        "\n",
        "## Stretch Goals\n",
        "\n",
        "### Reading\n",
        "- Jake VanderPlas, [Python Data Science Handbook, Chapter 5.3](https://jakevdp.github.io/PythonDataScienceHandbook/05.03-hyperparameters-and-model-validation.html), Hyperparameters and Model Validation\n",
        "- Jake VanderPlas, [Statistics for Hackers](https://speakerdeck.com/jakevdp/statistics-for-hackers?slide=107)\n",
        "- Ron Zacharski, [A Programmer's Guide to Data Mining, Chapter 5](http://guidetodatamining.com/chapter5/), 10-fold cross validation\n",
        "- Sebastian Raschka, [A Basic Pipeline and Grid Search Setup](https://github.com/rasbt/python-machine-learning-book/blob/master/code/bonus/svm_iris_pipeline_and_gridsearch.ipynb)\n",
        "- Peter Worcester, [A Comparison of Grid Search and Randomized Search Using Scikit Learn](https://blog.usejournal.com/a-comparison-of-grid-search-and-randomized-search-using-scikit-learn-29823179bc85)\n",
        "\n",
        "### Doing\n",
        "- Add your own stretch goals!\n",
        "- Try other [categorical encodings](https://contrib.scikit-learn.org/categorical-encoding/). See the previous assignment notebook for details.\n",
        "- In additon to `RandomizedSearchCV`, scikit-learn has [`GridSearchCV`](https://scikit-learn.org/stable/modules/generated/sklearn.model_selection.GridSearchCV.html). Another library called scikit-optimize has [`BayesSearchCV`](https://scikit-optimize.github.io/notebooks/sklearn-gridsearchcv-replacement.html). Experiment with these alternatives.\n",
        "- _[Introduction to Machine Learning with Python](http://shop.oreilly.com/product/0636920030515.do)_ discusses options for \"Grid-Searching Which Model To Use\" in Chapter 6:\n",
        "\n",
        "> You can even go further in combining GridSearchCV and Pipeline: it is also possible to search over the actual steps being performed in the pipeline (say whether to use StandardScaler or MinMaxScaler). This leads to an even bigger search space and should be considered carefully. Trying all possible solutions is usually not a viable machine learning strategy. However, here is an example comparing a RandomForestClassifier and an SVC ...\n",
        "\n",
        "The example is shown in [the accompanying notebook](https://github.com/amueller/introduction_to_ml_with_python/blob/master/06-algorithm-chains-and-pipelines.ipynb), code cells 35-37. Could you apply this concept to your own pipelines?\n"
      ]
    },
    {
      "cell_type": "markdown",
      "metadata": {
        "id": "vo0D1gWWYLIm",
        "colab_type": "text"
      },
      "source": [
        "### BONUS: Stacking!\n",
        "\n",
        "Here's some code you can use to \"stack\" multiple submissions, which is another form of ensembling:\n",
        "\n",
        "```python\n",
        "import pandas as pd\n",
        "\n",
        "# Filenames of your submissions you want to ensemble\n",
        "files = ['submission-01.csv', 'submission-02.csv', 'submission-03.csv']\n",
        "\n",
        "target = 'status_group'\n",
        "submissions = (pd.read_csv(file)[[target]] for file in files)\n",
        "ensemble = pd.concat(submissions, axis='columns')\n",
        "majority_vote = ensemble.mode(axis='columns')[0]\n",
        "\n",
        "sample_submission = pd.read_csv('sample_submission.csv')\n",
        "submission = sample_submission.copy()\n",
        "submission[target] = majority_vote\n",
        "submission.to_csv('my-ultimate-ensemble-submission.csv', index=False)\n",
        "```"
      ]
    },
    {
      "cell_type": "code",
      "metadata": {
        "id": "XZ2m-YtEYLIn",
        "colab_type": "code",
        "colab": {}
      },
      "source": [
        "%%capture\n",
        "import sys\n",
        "\n",
        "# If you're on Colab:\n",
        "if 'google.colab' in sys.modules:\n",
        "    DATA_PATH = 'https://raw.githubusercontent.com/LambdaSchool/DS-Unit-2-Kaggle-Challenge/master/data/'\n",
        "    !pip install category_encoders==2.*\n",
        "\n",
        "# If you're working locally:\n",
        "else:\n",
        "    DATA_PATH = '../data/'"
      ],
      "execution_count": 0,
      "outputs": []
    },
    {
      "cell_type": "code",
      "metadata": {
        "id": "N5HnhqnSYLIu",
        "colab_type": "code",
        "colab": {}
      },
      "source": [
        "import pandas as pd\n",
        "\n",
        "# Merge train_features.csv & train_labels.csv\n",
        "train = pd.merge(pd.read_csv(DATA_PATH+'waterpumps/train_features.csv'), \n",
        "                 pd.read_csv(DATA_PATH+'waterpumps/train_labels.csv'))\n",
        "\n",
        "# Read test_features.csv & sample_submission.csv\n",
        "test = pd.read_csv(DATA_PATH+'waterpumps/test_features.csv')\n",
        "sample_submission = pd.read_csv(DATA_PATH+'waterpumps/sample_submission.csv')"
      ],
      "execution_count": 0,
      "outputs": []
    },
    {
      "cell_type": "markdown",
      "metadata": {
        "id": "g7AG6kndaUL-",
        "colab_type": "text"
      },
      "source": [
        "#You won't be able to just copy from the lesson notebook to this assignment.\n",
        "\n",
        "Because the lesson was regression, but the assignment is classification.\n",
        "\n",
        "Because the lesson used TargetEncoder, which doesn't work as-is for multi-class classification.\n",
        "\n",
        "So you will have to adapt the example, which is good real-world practice.\n",
        "\n",
        "Use a model for classification, such as RandomForestClassifier\n",
        "\n",
        "Use hyperparameters that match the classifier, such as randomforestclassifier__ ...\n",
        "Use a metric for classification, such as scoring='accuracy'\n",
        "\n",
        "If you’re doing a multi-class classification problem — such as whether a waterpump is functional, functional needs repair, or nonfunctional — then use a categorical encoding that works for multi-class classification, such as OrdinalEncoder)"
      ]
    },
    {
      "cell_type": "code",
      "metadata": {
        "id": "ERjhxfngaXtQ",
        "colab_type": "code",
        "colab": {}
      },
      "source": [
        "import category_encoders as ce\n",
        "import numpy as np\n",
        "from sklearn.impute import SimpleImputer\n",
        "from sklearn.ensemble import RandomForestClassifier\n",
        "from sklearn.model_selection import cross_val_score\n",
        "from sklearn.pipeline import make_pipeline\n",
        "\n",
        "target = 'status_group'\n",
        "features = train.columns.drop([target])\n",
        "X_train = train[features]\n",
        "y_train = train[target]\n",
        "\n",
        "pipeline = make_pipeline(\n",
        "    ce.OrdinalEncoder(),\n",
        "    SimpleImputer(),\n",
        "    RandomForestClassifier(random_state=42)\n",
        ")\n",
        "\n"
      ],
      "execution_count": 0,
      "outputs": []
    },
    {
      "cell_type": "markdown",
      "metadata": {
        "id": "_vDEQQcOjpUh",
        "colab_type": "text"
      },
      "source": [
        "#Use scikit-learn for hyperparameter optimization with RandomizedSearchCV."
      ]
    },
    {
      "cell_type": "code",
      "metadata": {
        "id": "fx8swS6diFVM",
        "colab_type": "code",
        "colab": {
          "base_uri": "https://localhost:8080/",
          "height": 544
        },
        "outputId": "935df56e-d952-4645-f04d-515b1c4a383c"
      },
      "source": [
        "from sklearn.model_selection import RandomizedSearchCV\n",
        "from scipy.stats import randint, uniform\n",
        "\n",
        "param_distributions = {\n",
        "    'simpleimputer__strategy': ['mean', 'median'],\n",
        "    'randomforestclassifier__max_depth': [5,10,15,20,None],\n",
        "    'randomforestclassifier__n_estimators':randint(50,500),\n",
        "    'randomforestclassifier__max_features': uniform(0,1)\n",
        "}\n",
        "    \n",
        "search = RandomizedSearchCV(\n",
        "    pipeline,\n",
        "    param_distributions = param_distributions,\n",
        "    n_iter=10,\n",
        "    cv=3,\n",
        "    scoring='accuracy',\n",
        "    verbose = 10,\n",
        "    return_train_score=True,\n",
        "    n_jobs=-1\n",
        ")\n",
        "\n",
        "\n",
        "search.fit(X_train, y_train)"
      ],
      "execution_count": 25,
      "outputs": [
        {
          "output_type": "stream",
          "text": [
            "Fitting 3 folds for each of 10 candidates, totalling 30 fits\n"
          ],
          "name": "stdout"
        },
        {
          "output_type": "stream",
          "text": [
            "[Parallel(n_jobs=-1)]: Using backend LokyBackend with 2 concurrent workers.\n",
            "[Parallel(n_jobs=-1)]: Done   1 tasks      | elapsed:   45.9s\n",
            "[Parallel(n_jobs=-1)]: Done   4 tasks      | elapsed:  3.5min\n",
            "[Parallel(n_jobs=-1)]: Done   9 tasks      | elapsed:  8.7min\n",
            "[Parallel(n_jobs=-1)]: Done  14 tasks      | elapsed:  9.2min\n",
            "[Parallel(n_jobs=-1)]: Done  21 tasks      | elapsed: 11.7min\n",
            "[Parallel(n_jobs=-1)]: Done  30 out of  30 | elapsed: 14.3min finished\n"
          ],
          "name": "stderr"
        },
        {
          "output_type": "execute_result",
          "data": {
            "text/plain": [
              "RandomizedSearchCV(cv=3, error_score=nan,\n",
              "                   estimator=Pipeline(memory=None,\n",
              "                                      steps=[('ordinalencoder',\n",
              "                                              OrdinalEncoder(cols=None,\n",
              "                                                             drop_invariant=False,\n",
              "                                                             handle_missing='value',\n",
              "                                                             handle_unknown='value',\n",
              "                                                             mapping=None,\n",
              "                                                             return_df=True,\n",
              "                                                             verbose=0)),\n",
              "                                             ('simpleimputer',\n",
              "                                              SimpleImputer(add_indicator=False,\n",
              "                                                            copy=True,\n",
              "                                                            fill_value=None,\n",
              "                                                            missing_values=nan,\n",
              "                                                            strategy='mean',\n",
              "                                                            verbose=0)...\n",
              "                                        'randomforestclassifier__max_features': <scipy.stats._distn_infrastructure.rv_frozen object at 0x7f0e86ebcdd8>,\n",
              "                                        'randomforestclassifier__n_estimators': <scipy.stats._distn_infrastructure.rv_frozen object at 0x7f0e86ebcf28>,\n",
              "                                        'simpleimputer__strategy': ['mean',\n",
              "                                                                    'median']},\n",
              "                   pre_dispatch='2*n_jobs', random_state=None, refit=True,\n",
              "                   return_train_score=True, scoring='accuracy', verbose=10)"
            ]
          },
          "metadata": {
            "tags": []
          },
          "execution_count": 25
        }
      ]
    },
    {
      "cell_type": "code",
      "metadata": {
        "id": "IgPqy56blSwT",
        "colab_type": "code",
        "colab": {
          "base_uri": "https://localhost:8080/",
          "height": 51
        },
        "outputId": "063880fa-3ce1-4f1c-f6f7-6b4ae2f551ff"
      },
      "source": [
        "#Print the best results\n",
        "print('Best hyperparameters', search.best_params_)\n",
        "print('Cross-validation accuracy', search.best_score_)"
      ],
      "execution_count": 26,
      "outputs": [
        {
          "output_type": "stream",
          "text": [
            "Best hyperparameters {'randomforestclassifier__max_depth': 20, 'randomforestclassifier__max_features': 0.11636146731511521, 'randomforestclassifier__n_estimators': 320, 'simpleimputer__strategy': 'median'}\n",
            "Cross-validation accuracy 0.8076599326599326\n"
          ],
          "name": "stdout"
        }
      ]
    },
    {
      "cell_type": "code",
      "metadata": {
        "id": "S-6s1vwIsNjU",
        "colab_type": "code",
        "colab": {
          "base_uri": "https://localhost:8080/",
          "height": 549
        },
        "outputId": "edf4b34d-0ba6-40a8-9442-0a10befbfec8"
      },
      "source": [
        "pd.DataFrame(search.cv_results_).sort_values(by='rank_test_score')"
      ],
      "execution_count": 27,
      "outputs": [
        {
          "output_type": "execute_result",
          "data": {
            "text/html": [
              "<div>\n",
              "<style scoped>\n",
              "    .dataframe tbody tr th:only-of-type {\n",
              "        vertical-align: middle;\n",
              "    }\n",
              "\n",
              "    .dataframe tbody tr th {\n",
              "        vertical-align: top;\n",
              "    }\n",
              "\n",
              "    .dataframe thead th {\n",
              "        text-align: right;\n",
              "    }\n",
              "</style>\n",
              "<table border=\"1\" class=\"dataframe\">\n",
              "  <thead>\n",
              "    <tr style=\"text-align: right;\">\n",
              "      <th></th>\n",
              "      <th>mean_fit_time</th>\n",
              "      <th>std_fit_time</th>\n",
              "      <th>mean_score_time</th>\n",
              "      <th>std_score_time</th>\n",
              "      <th>param_randomforestclassifier__max_depth</th>\n",
              "      <th>param_randomforestclassifier__max_features</th>\n",
              "      <th>param_randomforestclassifier__n_estimators</th>\n",
              "      <th>param_simpleimputer__strategy</th>\n",
              "      <th>params</th>\n",
              "      <th>split0_test_score</th>\n",
              "      <th>split1_test_score</th>\n",
              "      <th>split2_test_score</th>\n",
              "      <th>mean_test_score</th>\n",
              "      <th>std_test_score</th>\n",
              "      <th>rank_test_score</th>\n",
              "      <th>split0_train_score</th>\n",
              "      <th>split1_train_score</th>\n",
              "      <th>split2_train_score</th>\n",
              "      <th>mean_train_score</th>\n",
              "      <th>std_train_score</th>\n",
              "    </tr>\n",
              "  </thead>\n",
              "  <tbody>\n",
              "    <tr>\n",
              "      <th>0</th>\n",
              "      <td>38.490130</td>\n",
              "      <td>2.002400</td>\n",
              "      <td>2.303764</td>\n",
              "      <td>0.053068</td>\n",
              "      <td>20</td>\n",
              "      <td>0.116361</td>\n",
              "      <td>320</td>\n",
              "      <td>median</td>\n",
              "      <td>{'randomforestclassifier__max_depth': 20, 'ran...</td>\n",
              "      <td>0.808485</td>\n",
              "      <td>0.808182</td>\n",
              "      <td>0.806313</td>\n",
              "      <td>0.807660</td>\n",
              "      <td>0.000960</td>\n",
              "      <td>1</td>\n",
              "      <td>0.960455</td>\n",
              "      <td>0.967551</td>\n",
              "      <td>0.968813</td>\n",
              "      <td>0.965606</td>\n",
              "      <td>0.003679</td>\n",
              "    </tr>\n",
              "    <tr>\n",
              "      <th>2</th>\n",
              "      <td>127.656304</td>\n",
              "      <td>1.980903</td>\n",
              "      <td>1.373421</td>\n",
              "      <td>0.117986</td>\n",
              "      <td>10</td>\n",
              "      <td>0.88563</td>\n",
              "      <td>248</td>\n",
              "      <td>median</td>\n",
              "      <td>{'randomforestclassifier__max_depth': 10, 'ran...</td>\n",
              "      <td>0.765354</td>\n",
              "      <td>0.769293</td>\n",
              "      <td>0.768182</td>\n",
              "      <td>0.767609</td>\n",
              "      <td>0.001658</td>\n",
              "      <td>2</td>\n",
              "      <td>0.791540</td>\n",
              "      <td>0.799040</td>\n",
              "      <td>0.799798</td>\n",
              "      <td>0.796793</td>\n",
              "      <td>0.003727</td>\n",
              "    </tr>\n",
              "    <tr>\n",
              "      <th>1</th>\n",
              "      <td>158.119721</td>\n",
              "      <td>1.813967</td>\n",
              "      <td>1.454761</td>\n",
              "      <td>0.123891</td>\n",
              "      <td>10</td>\n",
              "      <td>0.942859</td>\n",
              "      <td>288</td>\n",
              "      <td>median</td>\n",
              "      <td>{'randomforestclassifier__max_depth': 10, 'ran...</td>\n",
              "      <td>0.764293</td>\n",
              "      <td>0.768939</td>\n",
              "      <td>0.768434</td>\n",
              "      <td>0.767222</td>\n",
              "      <td>0.002082</td>\n",
              "      <td>3</td>\n",
              "      <td>0.791086</td>\n",
              "      <td>0.798535</td>\n",
              "      <td>0.800581</td>\n",
              "      <td>0.796734</td>\n",
              "      <td>0.004080</td>\n",
              "    </tr>\n",
              "    <tr>\n",
              "      <th>6</th>\n",
              "      <td>85.877329</td>\n",
              "      <td>1.242113</td>\n",
              "      <td>1.168800</td>\n",
              "      <td>0.020580</td>\n",
              "      <td>10</td>\n",
              "      <td>0.545548</td>\n",
              "      <td>266</td>\n",
              "      <td>mean</td>\n",
              "      <td>{'randomforestclassifier__max_depth': 10, 'ran...</td>\n",
              "      <td>0.762424</td>\n",
              "      <td>0.769192</td>\n",
              "      <td>0.769646</td>\n",
              "      <td>0.767088</td>\n",
              "      <td>0.003303</td>\n",
              "      <td>4</td>\n",
              "      <td>0.786136</td>\n",
              "      <td>0.797551</td>\n",
              "      <td>0.798990</td>\n",
              "      <td>0.794226</td>\n",
              "      <td>0.005750</td>\n",
              "    </tr>\n",
              "    <tr>\n",
              "      <th>9</th>\n",
              "      <td>39.371739</td>\n",
              "      <td>4.090692</td>\n",
              "      <td>1.452168</td>\n",
              "      <td>0.335135</td>\n",
              "      <td>10</td>\n",
              "      <td>0.191083</td>\n",
              "      <td>356</td>\n",
              "      <td>mean</td>\n",
              "      <td>{'randomforestclassifier__max_depth': 10, 'ran...</td>\n",
              "      <td>0.752273</td>\n",
              "      <td>0.763384</td>\n",
              "      <td>0.759848</td>\n",
              "      <td>0.758502</td>\n",
              "      <td>0.004635</td>\n",
              "      <td>5</td>\n",
              "      <td>0.772424</td>\n",
              "      <td>0.783106</td>\n",
              "      <td>0.783308</td>\n",
              "      <td>0.779613</td>\n",
              "      <td>0.005084</td>\n",
              "    </tr>\n",
              "    <tr>\n",
              "      <th>8</th>\n",
              "      <td>18.718960</td>\n",
              "      <td>0.120029</td>\n",
              "      <td>0.910024</td>\n",
              "      <td>0.042990</td>\n",
              "      <td>10</td>\n",
              "      <td>0.153584</td>\n",
              "      <td>177</td>\n",
              "      <td>mean</td>\n",
              "      <td>{'randomforestclassifier__max_depth': 10, 'ran...</td>\n",
              "      <td>0.751566</td>\n",
              "      <td>0.761212</td>\n",
              "      <td>0.760960</td>\n",
              "      <td>0.757912</td>\n",
              "      <td>0.004489</td>\n",
              "      <td>6</td>\n",
              "      <td>0.770758</td>\n",
              "      <td>0.781389</td>\n",
              "      <td>0.781944</td>\n",
              "      <td>0.778030</td>\n",
              "      <td>0.005148</td>\n",
              "    </tr>\n",
              "    <tr>\n",
              "      <th>5</th>\n",
              "      <td>22.161242</td>\n",
              "      <td>0.166106</td>\n",
              "      <td>0.656756</td>\n",
              "      <td>0.015669</td>\n",
              "      <td>5</td>\n",
              "      <td>0.33205</td>\n",
              "      <td>191</td>\n",
              "      <td>median</td>\n",
              "      <td>{'randomforestclassifier__max_depth': 5, 'rand...</td>\n",
              "      <td>0.719192</td>\n",
              "      <td>0.717020</td>\n",
              "      <td>0.718485</td>\n",
              "      <td>0.718232</td>\n",
              "      <td>0.000904</td>\n",
              "      <td>7</td>\n",
              "      <td>0.725758</td>\n",
              "      <td>0.716490</td>\n",
              "      <td>0.715606</td>\n",
              "      <td>0.719285</td>\n",
              "      <td>0.004591</td>\n",
              "    </tr>\n",
              "    <tr>\n",
              "      <th>3</th>\n",
              "      <td>13.982613</td>\n",
              "      <td>0.052039</td>\n",
              "      <td>0.578278</td>\n",
              "      <td>0.009066</td>\n",
              "      <td>5</td>\n",
              "      <td>0.264958</td>\n",
              "      <td>149</td>\n",
              "      <td>mean</td>\n",
              "      <td>{'randomforestclassifier__max_depth': 5, 'rand...</td>\n",
              "      <td>0.719192</td>\n",
              "      <td>0.715960</td>\n",
              "      <td>0.717525</td>\n",
              "      <td>0.717559</td>\n",
              "      <td>0.001320</td>\n",
              "      <td>8</td>\n",
              "      <td>0.724419</td>\n",
              "      <td>0.716237</td>\n",
              "      <td>0.714798</td>\n",
              "      <td>0.718485</td>\n",
              "      <td>0.004237</td>\n",
              "    </tr>\n",
              "    <tr>\n",
              "      <th>4</th>\n",
              "      <td>13.343834</td>\n",
              "      <td>0.021875</td>\n",
              "      <td>0.786559</td>\n",
              "      <td>0.018052</td>\n",
              "      <td>5</td>\n",
              "      <td>0.129374</td>\n",
              "      <td>247</td>\n",
              "      <td>median</td>\n",
              "      <td>{'randomforestclassifier__max_depth': 5, 'rand...</td>\n",
              "      <td>0.713232</td>\n",
              "      <td>0.711364</td>\n",
              "      <td>0.714394</td>\n",
              "      <td>0.712997</td>\n",
              "      <td>0.001248</td>\n",
              "      <td>9</td>\n",
              "      <td>0.719924</td>\n",
              "      <td>0.712980</td>\n",
              "      <td>0.713737</td>\n",
              "      <td>0.715547</td>\n",
              "      <td>0.003110</td>\n",
              "    </tr>\n",
              "    <tr>\n",
              "      <th>7</th>\n",
              "      <td>9.721833</td>\n",
              "      <td>0.144937</td>\n",
              "      <td>1.192754</td>\n",
              "      <td>0.034896</td>\n",
              "      <td>5</td>\n",
              "      <td>0.0341678</td>\n",
              "      <td>435</td>\n",
              "      <td>median</td>\n",
              "      <td>{'randomforestclassifier__max_depth': 5, 'rand...</td>\n",
              "      <td>0.698131</td>\n",
              "      <td>0.676768</td>\n",
              "      <td>0.681667</td>\n",
              "      <td>0.685522</td>\n",
              "      <td>0.009138</td>\n",
              "      <td>10</td>\n",
              "      <td>0.704268</td>\n",
              "      <td>0.685657</td>\n",
              "      <td>0.686237</td>\n",
              "      <td>0.692054</td>\n",
              "      <td>0.008640</td>\n",
              "    </tr>\n",
              "  </tbody>\n",
              "</table>\n",
              "</div>"
            ],
            "text/plain": [
              "   mean_fit_time  std_fit_time  ...  mean_train_score  std_train_score\n",
              "0      38.490130      2.002400  ...          0.965606         0.003679\n",
              "2     127.656304      1.980903  ...          0.796793         0.003727\n",
              "1     158.119721      1.813967  ...          0.796734         0.004080\n",
              "6      85.877329      1.242113  ...          0.794226         0.005750\n",
              "9      39.371739      4.090692  ...          0.779613         0.005084\n",
              "8      18.718960      0.120029  ...          0.778030         0.005148\n",
              "5      22.161242      0.166106  ...          0.719285         0.004591\n",
              "3      13.982613      0.052039  ...          0.718485         0.004237\n",
              "4      13.343834      0.021875  ...          0.715547         0.003110\n",
              "7       9.721833      0.144937  ...          0.692054         0.008640\n",
              "\n",
              "[10 rows x 20 columns]"
            ]
          },
          "metadata": {
            "tags": []
          },
          "execution_count": 27
        }
      ]
    },
    {
      "cell_type": "code",
      "metadata": {
        "id": "28vNs2oa5Eaw",
        "colab_type": "code",
        "colab": {}
      },
      "source": [
        "#set the pipeline to the optimal results\n",
        "pipeline = search.best_estimator_"
      ],
      "execution_count": 0,
      "outputs": []
    },
    {
      "cell_type": "code",
      "metadata": {
        "id": "NMHHMM4X5OeF",
        "colab_type": "code",
        "colab": {}
      },
      "source": [
        "X_test = test[features]\n",
        "y_pred = pipeline.predict(X_test)"
      ],
      "execution_count": 0,
      "outputs": []
    },
    {
      "cell_type": "markdown",
      "metadata": {
        "id": "UD1Xxhyn7Xwr",
        "colab_type": "text"
      },
      "source": [
        "#Download a submission"
      ]
    },
    {
      "cell_type": "code",
      "metadata": {
        "id": "D-smGf6I6VRd",
        "colab_type": "code",
        "colab": {
          "base_uri": "https://localhost:8080/",
          "height": 122
        },
        "outputId": "fb635b0c-e12f-4ce5-fad8-4f80bfe69dfc"
      },
      "source": [
        "from google.colab import drive\n",
        "drive.mount('/content/drive')"
      ],
      "execution_count": 32,
      "outputs": [
        {
          "output_type": "stream",
          "text": [
            "Go to this URL in a browser: https://accounts.google.com/o/oauth2/auth?client_id=947318989803-6bn6qk8qdgf4n4g3pfee6491hc0brc4i.apps.googleusercontent.com&redirect_uri=urn%3aietf%3awg%3aoauth%3a2.0%3aoob&response_type=code&scope=email%20https%3a%2f%2fwww.googleapis.com%2fauth%2fdocs.test%20https%3a%2f%2fwww.googleapis.com%2fauth%2fdrive%20https%3a%2f%2fwww.googleapis.com%2fauth%2fdrive.photos.readonly%20https%3a%2f%2fwww.googleapis.com%2fauth%2fpeopleapi.readonly\n",
            "\n",
            "Enter your authorization code:\n",
            "··········\n",
            "Mounted at /content/drive\n"
          ],
          "name": "stdout"
        }
      ]
    },
    {
      "cell_type": "code",
      "metadata": {
        "id": "bikfFIbr6DBl",
        "colab_type": "code",
        "colab": {
          "base_uri": "https://localhost:8080/",
          "height": 204
        },
        "outputId": "8d3dc8cc-ce71-4cbc-b354-992173beeeb8"
      },
      "source": [
        "sample_submission = pd.read_csv('/content/drive/My Drive/Lambda/Unit 2/sample_submission.csv')\n",
        "cv_submission = sample_submission.copy()\n",
        "cv_submission['status_group'] = y_pred\n",
        "cv_submission.head()\n"
      ],
      "execution_count": 34,
      "outputs": [
        {
          "output_type": "execute_result",
          "data": {
            "text/html": [
              "<div>\n",
              "<style scoped>\n",
              "    .dataframe tbody tr th:only-of-type {\n",
              "        vertical-align: middle;\n",
              "    }\n",
              "\n",
              "    .dataframe tbody tr th {\n",
              "        vertical-align: top;\n",
              "    }\n",
              "\n",
              "    .dataframe thead th {\n",
              "        text-align: right;\n",
              "    }\n",
              "</style>\n",
              "<table border=\"1\" class=\"dataframe\">\n",
              "  <thead>\n",
              "    <tr style=\"text-align: right;\">\n",
              "      <th></th>\n",
              "      <th>id</th>\n",
              "      <th>status_group</th>\n",
              "    </tr>\n",
              "  </thead>\n",
              "  <tbody>\n",
              "    <tr>\n",
              "      <th>0</th>\n",
              "      <td>50785</td>\n",
              "      <td>non functional</td>\n",
              "    </tr>\n",
              "    <tr>\n",
              "      <th>1</th>\n",
              "      <td>51630</td>\n",
              "      <td>functional</td>\n",
              "    </tr>\n",
              "    <tr>\n",
              "      <th>2</th>\n",
              "      <td>17168</td>\n",
              "      <td>functional</td>\n",
              "    </tr>\n",
              "    <tr>\n",
              "      <th>3</th>\n",
              "      <td>45559</td>\n",
              "      <td>non functional</td>\n",
              "    </tr>\n",
              "    <tr>\n",
              "      <th>4</th>\n",
              "      <td>49871</td>\n",
              "      <td>functional</td>\n",
              "    </tr>\n",
              "  </tbody>\n",
              "</table>\n",
              "</div>"
            ],
            "text/plain": [
              "      id    status_group\n",
              "0  50785  non functional\n",
              "1  51630      functional\n",
              "2  17168      functional\n",
              "3  45559  non functional\n",
              "4  49871      functional"
            ]
          },
          "metadata": {
            "tags": []
          },
          "execution_count": 34
        }
      ]
    },
    {
      "cell_type": "code",
      "metadata": {
        "id": "0l8bZ0JQ6SvH",
        "colab_type": "code",
        "colab": {}
      },
      "source": [
        "cv_submission.to_csv('cv_submission.csv', index=False)"
      ],
      "execution_count": 0,
      "outputs": []
    },
    {
      "cell_type": "code",
      "metadata": {
        "id": "oDaft-IR6sT6",
        "colab_type": "code",
        "colab": {}
      },
      "source": [
        ""
      ],
      "execution_count": 0,
      "outputs": []
    }
  ]
}